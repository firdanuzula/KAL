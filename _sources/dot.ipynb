{
 "cells": [
  {
   "cell_type": "markdown",
   "id": "ff8c807b",
   "metadata": {},
   "source": [
    "# Perkalian Titik"
   ]
  },
  {
   "cell_type": "markdown",
   "id": "a6699326",
   "metadata": {},
   "source": [
    "## Perkalian titik (dot product)\n",
    "\n",
    "### **Dot Product**\n",
    "Dot product atau dalam bahasa Indonesia disebut perkalian titik adalah operasi matematika antara dua vektor yang hasilnya berupa skalar (bukan vektor).\n",
    "\n",
    "**Kegunaan dot product:**\n",
    "* Menentukan apakah dua vektor saling tegak lurus $(\\vec{a} \\cdot \\vec{b} = 0$ kalau sudutnya $90^\\circ)$\n",
    "* Mengukur proyeksi satu vektor ke vektor lain\n",
    "* Dipakai di grafik komputer, fisika, machine learning, dsb.\n",
    "\n",
    "**Sifat-sifat Pertama Perkalian Titik**\n",
    "\n",
    "Misalkan x, y, dan u adalah vektor-vektor di ruang vektor ℝⁿ, dan misalkan r adalah sebuah skalar. Maka berlaku sifat-sifat berikut:\n",
    "\n",
    "1. Komutatif:\n",
    "\n",
    "  x · y = y · x\n",
    "\n",
    "2. Distributif terhadap Penjumlahan Vektor:\n",
    "\n",
    "  u · (x + y) = u · x + u · y\n",
    "\n",
    "3. Distributif terhadap Penjumlahan Vektor (dari sisi kiri):\n",
    "  \n",
    "  (x + y) · u = x · u + y · u\n",
    "\n",
    "4. Homogenitas Skalar:\n",
    "  \n",
    "  r(x · y) = (rx) · y = x · (ry)\n",
    "\n",
    "5. Positif Semidefinisi:\n",
    "\n",
    "  x · x ≥ 0 dengan kesamaan terjadi jika dan hanya jika x = 0\n",
    "\n",
    "**Penjelasan & Contoh**\n",
    "\n",
    "**Contoh Praktis :**\n",
    "\n",
    "$$x = \\begin{bmatrix} 1 \\\\ 2 \\end{bmatrix} y = \\begin{bmatrix} 3 \\\\ -1 \\end{bmatrix} u = \\begin{bmatrix} 2 \\\\ 1 \\end{bmatrix} r = 2$$\n",
    "\n",
    "\n",
    "1. **Komutatif** : Hasil kali titik dua vektor tidak bergantung pada urutan.\n",
    "\n",
    "$$x.y = \\begin{bmatrix} 1 \\\\ 2 \\end{bmatrix} \\cdot \\begin{bmatrix} 3 \\\\ -1 \\end{bmatrix} = (1)(3) + (2)(-1) = 3 - 2 = 1$$\n",
    "\n",
    "$$y.x = \\begin{bmatrix} 3 \\\\ -1 \\end{bmatrix} \\cdot \\begin{bmatrix} 1 \\\\ 2 \\end{bmatrix} = (3)(1) + (-1)(2) = 3 - 2 = 1$$\n",
    "\n",
    "2. **Distributif** : Hasil kali titik distributif terhadap penjumlahan vektor.\n",
    "\n",
    "$$\\mathbf{u} \\cdot (\\mathbf{x} + \\mathbf{y}) = \\begin{bmatrix} 2 \\\\ 1 \\end{bmatrix} \\cdot \\left( \\begin{bmatrix} 1 \\\\ 2 \\end{bmatrix} + \\begin{bmatrix} 3 \\\\ -1 \\end{bmatrix} \\right) = \\begin{bmatrix} 2 \\\\ 1 \\end{bmatrix} \\cdot \\begin{bmatrix} 4 \\\\ 1 \\end{bmatrix} = (2)(4) + (1)(1) = 8 + 1 = 9$$\n",
    "\n",
    "$$\\mathbf{u} \\cdot \\mathbf{x} + \\mathbf{u} \\cdot \\mathbf{y} = \\begin{bmatrix} 2 \\\\ 1 \\end{bmatrix} \\cdot \\begin{bmatrix} 1 \\\\ 2 \\end{bmatrix} + \\begin{bmatrix} 2 \\\\ 1 \\end{bmatrix} \\cdot \\begin{bmatrix} 3 \\\\ -1 \\end{bmatrix} = (2)(1) + (1)(2) + (2)(3) + (1)(-1) = 2 + 2 + 6 - 1 = 9$$\n",
    "\n",
    "3. **Homogenitas Skalar** : Mengalikan salah satu vektor dengan skalar sebelum atau setelah hasil kali titik memberikan hasil yang sama.\n",
    "\n",
    "$$r(\\mathbf{x} \\cdot \\mathbf{y}) = 2 \\cdot 1 = 2$$\n",
    "\n",
    "$$(r\\mathbf{x}) \\cdot \\mathbf{y} = \\begin{bmatrix} 2 \\\\ 4 \\end{bmatrix} \\cdot \\begin{bmatrix} 3 \\\\ -1 \\end{bmatrix} = (2)(3) + (4)(-1) = 6 - 4 = 2$$\n",
    "\n",
    "$$\\mathbf{x} \\cdot (r\\mathbf{y}) = \\begin{bmatrix} 1 \\\\ 2 \\end{bmatrix} \\cdot \\begin{bmatrix} 6 \\\\ -2 \\end{bmatrix} = (1)(6) + (2)(-2) = 6 - 4 = 2$$\n",
    "\n",
    "4. **Positif Semidefinisi** : Hasil kali titik suatu vektor dengan dirinya sendiri selalu non-negatif, dan bernilai nol hanya jika vektor tersebut adalah vektor nol.\n",
    "\n",
    "$$\\mathbf{x} \\cdot \\mathbf{x} = \\begin{bmatrix} 1 \\\\ 2 \\end{bmatrix} \\cdot \\begin{bmatrix} 1 \\\\ 2 \\end{bmatrix} = (1)(1) + (2)(2) = 1 + 4 = 5 \\geq 0$$"
   ]
  },
  {
   "cell_type": "markdown",
   "id": "12bf11a1",
   "metadata": {},
   "source": [
    "## **Program untuk menghitung dot product (perkalian titik dua vector)**"
   ]
  },
  {
   "cell_type": "code",
   "execution_count": 1,
   "id": "301945ec",
   "metadata": {},
   "outputs": [
    {
     "name": "stdout",
     "output_type": "stream",
     "text": [
      "Proses perhitungan dot product:\n",
      "Elemen ke-1: 1 * 4 = 4\n",
      "Elemen ke-2: 2 * 5 = 10\n",
      "Elemen ke-3: 3 * 6 = 18\n",
      "Jumlah total: 32\n",
      "Dot product: 32\n"
     ]
    }
   ],
   "source": [
    "def dot_product(vector1, vector2):\n",
    "    if len(vector1) != len(vector2):\n",
    "        raise ValueError(\"Panjang kedua vektor harus sama.\")\n",
    "\n",
    "    hasil = 0\n",
    "    print(\"Proses perhitungan dot product:\")\n",
    "    for i in range(len(vector1)):\n",
    "        perkalian = vector1[i] * vector2[i]\n",
    "        hasil += perkalian\n",
    "        print(f\"Elemen ke-{i+1}: {vector1[i]} * {vector2[i]} = {perkalian}\")\n",
    "\n",
    "    print(f\"Jumlah total: {hasil}\")\n",
    "    return hasil\n",
    "\n",
    "# Contoh penggunaan\n",
    "v1 = [1, 2, 3]\n",
    "v2 = [4, 5, 6]\n",
    "\n",
    "print(\"Dot product:\", dot_product(v1, v2))"
   ]
  },
  {
   "cell_type": "markdown",
   "id": "eb9cf623",
   "metadata": {},
   "source": [
    "## Materi vektor satuan\n",
    "\n",
    "### **Vektor Satuan di $\\mathbb{R}^n$**\n",
    "\n",
    "Vektor satuan (unit vector) adalah vektor dengan panjang satu. \n",
    "\n",
    "Jelas bahwa vektor x adalah vektor satuan jika dan hanya jika:\n",
    "\n",
    "$$\\|\\mathbf{x}\\|^2 = \\mathbf{x} \\cdot \\mathbf{x} = 1.$$\n",
    "\n",
    "**Membentuk Vektor Satuan**\n",
    "\n",
    "Misalkan x adalah vektor tak nol di $\\mathbb{R}^n$. Maka:\n",
    "$$\\frac{\\mathbf{x}}{\\|\\mathbf{x}\\|}$$\n",
    "adalah vektor satuan\n",
    "\n",
    "**Bukti**\n",
    "$$\\frac{\\mathbf{x}}{\\|\\mathbf{x}\\|} \\cdot \\frac{\\mathbf{x}}{\\|\\mathbf{x}\\|} = \\frac{\\mathbf{x} \\cdot \\mathbf{x}}{\\|\\mathbf{x}\\|^2} = \\frac{\\|\\mathbf{x}\\|^2}{\\|\\mathbf{x}\\|^2} = 1$$\n",
    "\n",
    "**Contoh**\n",
    "\n",
    "Misalkan $\\mathbf{x} = \\begin{bmatrix} 3 \\\\ 4 \\end{bmatrix}$\n",
    "\n",
    "* Panjang Vektor\n",
    "\n",
    "$$\\|\\mathbf{x}\\| = \\sqrt{3^2 + 4^2} = \\sqrt{9 + 16} = \\sqrt{25} = 5.$$\n",
    "\n",
    "* Vektor Satuan\n",
    "\n",
    "$$\\mathbf{u} = \\frac{\\mathbf{x}}{\\|\\mathbf{x}\\|} = \\frac{1}{5} \\begin{bmatrix} 3 \\\\ 4 \\end{bmatrix} = \\begin{bmatrix} \\frac{3}{5} \\\\ \\frac{4}{5} \\end{bmatrix}.$$\n",
    "\n",
    "* Verifikasi\n",
    "\n",
    "$$\\|\\mathbf{u}\\| = \\sqrt{\\left(\\frac{3}{5}\\right)^2 + \\left(\\frac{4}{5}\\right)^2} = \\sqrt{\\frac{9}{25} + \\frac{16}{25}} = \\sqrt{1} = 1.$$"
   ]
  },
  {
   "cell_type": "markdown",
   "id": "4d6176ad",
   "metadata": {},
   "source": [
    "## Program Untuk Menghitung Vektor Satuan"
   ]
  },
  {
   "cell_type": "code",
   "execution_count": 2,
   "id": "3cc275b4",
   "metadata": {},
   "outputs": [
    {
     "name": "stdout",
     "output_type": "stream",
     "text": [
      "Norma vektor x : 5.0\n",
      "Vektor satuan u : [0.6, 0.8]\n",
      "Norma vektor u : 1.0\n"
     ]
    }
   ],
   "source": [
    "import math\n",
    "\n",
    "# Definisi vektor\n",
    "x = [3, 4]\n",
    "\n",
    "# 1. Hitung panjang (norma) vektor\n",
    "total = 0\n",
    "for i in x:\n",
    "    total += i**2\n",
    "\n",
    "norm_x = math.sqrt(total)\n",
    "\n",
    "print(\"Norma vektor x :\", norm_x)\n",
    "\n",
    "# 2. Buat vektor satuan u = x / |x|\n",
    "u = []\n",
    "for i in x:\n",
    "    u.append(i / norm_x)\n",
    "\n",
    "print(\"Vektor satuan u :\", u)\n",
    "\n",
    "# 3. Verifikasi norma vektor u\n",
    "total_u = 0\n",
    "for i in u:\n",
    "    total_u += i**2\n",
    "\n",
    "norm_u = math.sqrt(total_u)\n",
    "\n",
    "print(\"Norma vektor u :\", norm_u)"
   ]
  }
 ],
 "metadata": {
  "kernelspec": {
   "display_name": "Python 3",
   "language": "python",
   "name": "python3"
  },
  "language_info": {
   "codemirror_mode": {
    "name": "ipython",
    "version": 3
   },
   "file_extension": ".py",
   "mimetype": "text/x-python",
   "name": "python",
   "nbconvert_exporter": "python",
   "pygments_lexer": "ipython3",
   "version": "3.12.1"
  }
 },
 "nbformat": 4,
 "nbformat_minor": 5
}
