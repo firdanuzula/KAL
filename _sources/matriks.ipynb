{
 "cells": [
  {
   "cell_type": "markdown",
   "metadata": {},
   "source": [
    "# Matriks \n",
    "\n",
    "## Definisi Matriks\n",
    "Matriks adalah sebuah larik (array) dua dimensi yang terdiri dari bilangan real atau kompleks yang disusun dalam bentuk persegi panjang dengan baris dan kolom tertentu. Secara formal, sebuah matriks dengan ukuran $ m×n $ memiliki m baris dan n kolom, di mana setiap elemen dalam matriks diwakili oleh , dengan $ a_{ij} $ 𝑖 menunjukkan indeks baris dan 𝑗 menunjukkan indeks kolom. \n",
    "\n",
    "### Operasi Aritmatika Matriks\n",
    "#### 1. Penjumlahan Matriks\n",
    "Penjumlahan dua matriks hanya dapat dilakukan jika kedua matriks memiliki ukuran (ordo) yang sama, yaitu jumlah baris dan kolomnya harus sama.\n",
    "\n",
    "Jika $A = [a_{ij}]$ dan $B = [b_{ij}]$ adalah dua matriks berukuran $m \\times n$, maka:\n",
    "\n",
    "$C = A + B = [c_{ij}]$\n",
    "\n",
    "dengan setiap elemen dihitung sebagai:\n",
    "\n",
    "$c_{ij} = a_{ij} + b_{ij}$\n",
    "\n",
    "Contoh:\n",
    "\n",
    "Misalkan:\n",
    "\n",
    "$A = \\begin{bmatrix} 1 & 2 \\\\ 3 & 4 \\end{bmatrix}, \\quad$\n",
    "$B = \\begin{bmatrix} 5 & 6 \\\\ 7 & 8 \\end{bmatrix}$\n",
    "\n",
    "Maka:\n",
    "\n",
    "$A + B = \\begin{bmatrix} 1+5 & 2+6 \\\\ 3+7 & 4+8 \\end{bmatrix}\n",
    "= \\begin{bmatrix} 6 & 8 \\\\ 10 & 12 \\end{bmatrix}$\n",
    "\n",
    "#### 2. Pengurangan Matriks \n",
    "Sama seperti penjumlahan, pengurangan matriks hanya bisa dilakukan jika kedua matriks memiliki ukuran yang sama.\n",
    "\n",
    "$C = A - B = [c_{ij}]$\n",
    "\n",
    "dengan:\n",
    "\n",
    "$c_{ij} = a_{ij} - b_{ij}$\n",
    "\n",
    "Misalkan:\n",
    "\n",
    "$A - B = \\begin{bmatrix} 1-5 & 2-6 \\\\ 3-7 & 4-8 \\end{bmatrix}\n",
    "= \\begin{bmatrix} -4 & -4 \\\\ -4 & -4 \\end{bmatrix}$\n",
    "\n",
    "#### Konsep Penjumlahan Matriks\n",
    "#### Konsep Perkalian Matriks\n",
    "#### Perkalian Skala dengan Matriks\n",
    "\n"
   ]
  }
 ],
 "metadata": {
  "language_info": {
   "name": "python"
  }
 },
 "nbformat": 4,
 "nbformat_minor": 2
}
