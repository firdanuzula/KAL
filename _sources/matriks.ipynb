{
 "cells": [
  {
   "cell_type": "markdown",
   "metadata": {},
   "source": [
    "# Matriks \n",
    "\n",
    "## Definisi Matriks\n",
    "Matriks adalah sebuah larik (array) dua dimensi yang terdiri dari bilangan real atau kompleks yang disusun dalam bentuk persegi panjang dengan baris dan kolom tertentu. Secara formal, sebuah matriks dengan ukuran $ m×n $ memiliki m baris dan n kolom, di mana setiap elemen dalam matriks diwakili oleh , dengan $ a_{ij} $ 𝑖 menunjukkan indeks baris dan 𝑗 menunjukkan indeks kolom. \n",
    "\n",
    "### Operasi Aritmatika Matriks\n",
    "#### 1. Penjumlahan Matriks\n",
    "Penjumlahan dua matriks hanya dapat dilakukan jika kedua matriks memiliki ukuran (ordo) yang sama, yaitu jumlah baris dan kolomnya harus sama.\n",
    "\n",
    "Jika $A = [a_{ij}]$ dan $B = [b_{ij}]$ adalah dua matriks berukuran $m \\times n$, maka:\n",
    "\n",
    "$C = A + B = [c_{ij}]$\n",
    "\n",
    "dengan setiap elemen dihitung sebagai:\n",
    "\n",
    "$c_{ij} = a_{ij} + b_{ij}$\n",
    "\n",
    "Contoh:\n",
    "\n",
    "Misalkan:\n",
    "\n",
    "$A = \\begin{bmatrix} 1 & 2 \\\\ 3 & 4 \\end{bmatrix}, \\quad$\n",
    "$B = \\begin{bmatrix} 5 & 6 \\\\ 7 & 8 \\end{bmatrix}$\n",
    "\n",
    "Maka:\n",
    "\n",
    "$A + B = \\begin{bmatrix} 1+5 & 2+6 \\\\ 3+7 & 4+8 \\end{bmatrix}\n",
    "= \\begin{bmatrix} 6 & 8 \\\\ 10 & 12 \\end{bmatrix}$\n",
    "\n",
    "#### 2. Pengurangan Matriks \n",
    "Sama seperti penjumlahan, pengurangan matriks hanya bisa dilakukan jika kedua matriks memiliki ukuran yang sama.\n",
    "\n",
    "$C = A - B = [c_{ij}]$\n",
    "\n",
    "dengan:\n",
    "\n",
    "$c_{ij} = a_{ij} - b_{ij}$\n",
    "\n",
    "Misalkan:\n",
    "\n",
    "$A - B = \\begin{bmatrix} 1-5 & 2-6 \\\\ 3-7 & 4-8 \\end{bmatrix}\n",
    "= \\begin{bmatrix} -4 & -4 \\\\ -4 & -4 \\end{bmatrix}$\n",
    "\n",
    "#### 3. Perkalian Skala dengan Matriks\n",
    "\n",
    "Perkalian skalar dilakukan dengan mengalikan setiap elemen matriks dengan suatu bilangan skalar.\n",
    "\n",
    "Jika $k$ adalah bilangan skalar, maka:\n",
    "\n",
    "$(kA) = k \\times \\begin{bmatrix} a_{11} & a_{12} \\\\ a_{21} & a_{22} \\end{bmatrix}$\n",
    "\n",
    "Contoh:\n",
    "\n",
    "Misalkan $k = 2$ dan\n",
    "\n",
    "$A = \\begin{bmatrix} 1 & 2 \\\\ 3 & 4 \\end{bmatrix}$\n",
    "\n",
    "Maka:\n",
    "\n",
    "$ 2A = \\begin{bmatrix} 2 \\times 1 & 2 \\times 2 \\\\ 2 \\times 3 & 2 \\times 4 \\end{bmatrix} \n",
    "= \\begin{bmatrix} 2 & 4 \\\\ 6 & 8 \\end{bmatrix} $\n",
    "\n",
    "#### 4. Perkalian Matriks\n",
    "Jika $A$ berukuran $m \\times n$ dan $B$ berukuran $n \\times p$, maka hasilnya adalah matriks $C$ berukuran $m \\times p$, dengan elemen-elemen dihitung sebagai:\n",
    "\n",
    "$c_{ij} = \\sum_{k=1}^{n} a_{ik} \\cdot b_{kj}$\n",
    "\n",
    "Misalkan:\n",
    "\n",
    "$ A = \\begin{bmatrix} 1 & 2 \\\\ 3 & 4 \\end{bmatrix}, \\quad \n",
    "B = \\begin{bmatrix} 5 & 6 \\\\ 7 & 8 \\end{bmatrix} $\n",
    "\n",
    "Maka:\n",
    "\n",
    "$ AB = \n",
    "\\begin{bmatrix} \n",
    "(1 \\times 5 + 2 \\times 7) & (1 \\times 6 + 2 \\times 8) \\\\ \n",
    "(3 \\times 5 + 4 \\times 7) & (3 \\times 6 + 4 \\times 8) \n",
    "\\end{bmatrix} $\n",
    "\n",
    "### Perkalian Skala dengan Matriks\n",
    "\n"
   ]
  },
  {
   "cell_type": "markdown",
   "metadata": {},
   "source": [
    "## Konsep Penjumlahan Matriks\n",
    "Penjumlahan dua matriks dapat dilakukan jika kedua matriks memiliki ukuran yang sama. Jika terdapat dua matriks:"
   ]
  },
  {
   "cell_type": "code",
   "execution_count": null,
   "metadata": {
    "vscode": {
     "languageId": "plaintext"
    }
   },
   "outputs": [],
   "source": [
    "# Penjumlahan matriks\n",
    "A = [[2, 4], [6, 8]]\n",
    "B = [[1, 3], [5, 7]]\n",
    "\n",
    "# Menghitung hasil penjumlahan\n",
    "C = [[A[i][j] + B[i][j] for j in range(len(A[0]))] for i in range(len(A))]\n",
    "\n",
    "# Menampilkan hasil\n",
    "for row in C:\n",
    "    print(row)"
   ]
  },
  {
   "cell_type": "markdown",
   "metadata": {},
   "source": [
    "## Konsep Perkalian Matriks\n",
    "Perkalian dua matriks hanya bisa dilakukan jika jumlah kolom pada matriks pertama sama dengan jumlah baris pada matriks kedua.\n",
    "\n",
    "Jika:\n",
    "- Matriks A berukuran m × n\n",
    "- Matriks B berukuran n × p\n",
    "- Maka hasilnya (C = A × B) adalah matriks berukuran m × p\n",
    "\n",
    "Setiap elemen dalam matriks hasil \\textbf{C} dihitung dengan rumus:\n",
    "\n",
    "$ c_{ij} = \\sum_{k=1}^{n} a_{ik} \\times b_{kj} $\n",
    "\n",
    "Di mana:\n",
    "$ \\begin{itemize}\n",
    "$\\item $a_{ik}$ adalah elemen baris ke-$i$ dan kolom ke-$k$ dari matriks \\textbf{A}$\n",
    "$\\item $b_{kj}$ adalah elemen baris ke-$k$ dan kolom ke-$j$ dari matriks \\textbf{B}\n",
    "$\\item $c_{ij}$ adalah elemen hasil pada baris ke-$i$ dan kolom ke-$j$ dalam matriks \\textbf{C}\n",
    "$\\end{itemize} $"
   ]
  },
  {
   "cell_type": "code",
   "execution_count": null,
   "metadata": {
    "vscode": {
     "languageId": "plaintext"
    }
   },
   "outputs": [],
   "source": []
  }
 ],
 "metadata": {
  "language_info": {
   "name": "python"
  }
 },
 "nbformat": 4,
 "nbformat_minor": 2
}
