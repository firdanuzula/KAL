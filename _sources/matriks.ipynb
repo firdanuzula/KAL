{
 "cells": [
  {
   "cell_type": "markdown",
   "metadata": {},
   "source": [
    "# Matriks \n",
    "\n",
    "## Definisi Matriks\n",
    "\n",
    "### Operasi Aritmatika Matriks\n",
    "#### Konsep Penjumlahan Matriks\n",
    "#### Konsep Perkalian Matriks\n",
    "#### Perkalian Skala dengan Matriks\n",
    "\n"
   ]
  }
 ],
 "metadata": {
  "language_info": {
   "name": "python"
  }
 },
 "nbformat": 4,
 "nbformat_minor": 2
}
