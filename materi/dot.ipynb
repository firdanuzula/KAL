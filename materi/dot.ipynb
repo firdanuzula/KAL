{
 "cells": [
  {
   "cell_type": "markdown",
   "id": "ff8c807b",
   "metadata": {},
   "source": [
    "# "
   ]
  },
  {
   "cell_type": "markdown",
   "id": "a6699326",
   "metadata": {},
   "source": [
    "## Perkalian titik (dot product)\n",
    "\n",
    "### **Dot Product**\n",
    "Dot product atau dalam bahasa Indonesia disebut perkalian titik adalah operasi matematika antara dua vektor yang hasilnya berupa skalar (bukan vektor).\n",
    "\n",
    "**Kegunaan dot product:**\n",
    "* Menentukan apakah dua vektor saling tegak lurus $(\\vec{a} \\cdot \\vec{b} = 0$ kalau sudutnya $90^\\circ)$\n",
    "* Mengukur proyeksi satu vektor ke vektor lain\n",
    "* Dipakai di grafik komputer, fisika, machine learning, dsb.\n",
    "\n",
    "**Sifat-sifat Pertama Perkalian Titik**\n",
    "\n",
    "Misalkan x, y, dan u adalah vektor-vektor di ruang vektor ℝⁿ, dan misalkan r adalah sebuah skalar. Maka berlaku sifat-sifat berikut:\n",
    "\n",
    "1. Komutatif:\n",
    "\n",
    "  x · y = y · x\n",
    "\n",
    "2. Distributif terhadap Penjumlahan Vektor:\n",
    "\n",
    "  u · (x + y) = u · x + u · y\n",
    "\n",
    "3. Distributif terhadap Penjumlahan Vektor (dari sisi kiri):\n",
    "  \n",
    "  (x + y) · u = x · u + y · u\n",
    "\n",
    "4. Homogenitas Skalar:\n",
    "  \n",
    "  r(x · y) = (rx) · y = x · (ry)\n",
    "\n",
    "5. Positif Semidefinisi:\n",
    "\n",
    "  x · x ≥ 0 dengan kesamaan terjadi jika dan hanya jika x = 0\n",
    "\n",
    "**Penjelasan & Contoh**\n",
    "\n",
    "**Contoh Praktis :**\n",
    "\n",
    "$$x = \\begin{bmatrix} 1 \\\\ 2 \\end{bmatrix} y = \\begin{bmatrix} 3 \\\\ -1 \\end{bmatrix} u = \\begin{bmatrix} 2 \\\\ 1 \\end{bmatrix} r = 2$$\n",
    "\n",
    "\n",
    "1. **Komutatif** : Hasil kali titik dua vektor tidak bergantung pada urutan.\n",
    "\n",
    "$$x.y = \\begin{bmatrix} 1 \\\\ 2 \\end{bmatrix} \\cdot \\begin{bmatrix} 3 \\\\ -1 \\end{bmatrix} = (1)(3) + (2)(-1) = 3 - 2 = 1$$\n",
    "\n",
    "$$y.x = \\begin{bmatrix} 3 \\\\ -1 \\end{bmatrix} \\cdot \\begin{bmatrix} 1 \\\\ 2 \\end{bmatrix} = (3)(1) + (-1)(2) = 3 - 2 = 1$$\n",
    "\n",
    "2. **Distributif** : Hasil kali titik distributif terhadap penjumlahan vektor.\n",
    "\n",
    "$$\\mathbf{u} \\cdot (\\mathbf{x} + \\mathbf{y}) = \\begin{bmatrix} 2 \\\\ 1 \\end{bmatrix} \\cdot \\left( \\begin{bmatrix} 1 \\\\ 2 \\end{bmatrix} + \\begin{bmatrix} 3 \\\\ -1 \\end{bmatrix} \\right) = \\begin{bmatrix} 2 \\\\ 1 \\end{bmatrix} \\cdot \\begin{bmatrix} 4 \\\\ 1 \\end{bmatrix} = (2)(4) + (1)(1) = 8 + 1 = 9$$\n",
    "\n",
    "$$\\mathbf{u} \\cdot \\mathbf{x} + \\mathbf{u} \\cdot \\mathbf{y} = \\begin{bmatrix} 2 \\\\ 1 \\end{bmatrix} \\cdot \\begin{bmatrix} 1 \\\\ 2 \\end{bmatrix} + \\begin{bmatrix} 2 \\\\ 1 \\end{bmatrix} \\cdot \\begin{bmatrix} 3 \\\\ -1 \\end{bmatrix} = (2)(1) + (1)(2) + (2)(3) + (1)(-1) = 2 + 2 + 6 - 1 = 9$$\n",
    "\n",
    "3. **Homogenitas Skalar** : Mengalikan salah satu vektor dengan skalar sebelum atau setelah hasil kali titik memberikan hasil yang sama.\n",
    "\n",
    "$$r(\\mathbf{x} \\cdot \\mathbf{y}) = 2 \\cdot 1 = 2$$\n",
    "\n",
    "$$(r\\mathbf{x}) \\cdot \\mathbf{y} = \\begin{bmatrix} 2 \\\\ 4 \\end{bmatrix} \\cdot \\begin{bmatrix} 3 \\\\ -1 \\end{bmatrix} = (2)(3) + (4)(-1) = 6 - 4 = 2$$\n",
    "\n",
    "$$\\mathbf{x} \\cdot (r\\mathbf{y}) = \\begin{bmatrix} 1 \\\\ 2 \\end{bmatrix} \\cdot \\begin{bmatrix} 6 \\\\ -2 \\end{bmatrix} = (1)(6) + (2)(-2) = 6 - 4 = 2$$\n",
    "\n",
    "4. **Positif Semidefinisi** : Hasil kali titik suatu vektor dengan dirinya sendiri selalu non-negatif, dan bernilai nol hanya jika vektor tersebut adalah vektor nol.\n",
    "\n",
    "$$\\mathbf{x} \\cdot \\mathbf{x} = \\begin{bmatrix} 1 \\\\ 2 \\end{bmatrix} \\cdot \\begin{bmatrix} 1 \\\\ 2 \\end{bmatrix} = (1)(1) + (2)(2) = 1 + 4 = 5 \\geq 0$$"
   ]
  },
  {
   "cell_type": "markdown",
   "id": "12bf11a1",
   "metadata": {},
   "source": [
    "### **Program untuk menghitung dot product (perkalian titik dua vector)**"
   ]
  },
  {
   "cell_type": "code",
   "execution_count": 1,
   "id": "301945ec",
   "metadata": {},
   "outputs": [
    {
     "name": "stdout",
     "output_type": "stream",
     "text": [
      "Proses perhitungan dot product:\n",
      "Elemen ke-1: 1 * 4 = 4\n",
      "Elemen ke-2: 2 * 5 = 10\n",
      "Elemen ke-3: 3 * 6 = 18\n",
      "Jumlah total: 32\n",
      "Dot product: 32\n"
     ]
    }
   ],
   "source": [
    "def dot_product(vector1, vector2):\n",
    "    if len(vector1) != len(vector2):\n",
    "        raise ValueError(\"Panjang kedua vektor harus sama.\")\n",
    "\n",
    "    hasil = 0\n",
    "    print(\"Proses perhitungan dot product:\")\n",
    "    for i in range(len(vector1)):\n",
    "        perkalian = vector1[i] * vector2[i]\n",
    "        hasil += perkalian\n",
    "        print(f\"Elemen ke-{i+1}: {vector1[i]} * {vector2[i]} = {perkalian}\")\n",
    "\n",
    "    print(f\"Jumlah total: {hasil}\")\n",
    "    return hasil\n",
    "\n",
    "# Contoh penggunaan\n",
    "v1 = [1, 2, 3]\n",
    "v2 = [4, 5, 6]\n",
    "\n",
    "print(\"Dot product:\", dot_product(v1, v2))"
   ]
  }
 ],
 "metadata": {
  "kernelspec": {
   "display_name": "Python 3",
   "language": "python",
   "name": "python3"
  },
  "language_info": {
   "codemirror_mode": {
    "name": "ipython",
    "version": 3
   },
   "file_extension": ".py",
   "mimetype": "text/x-python",
   "name": "python",
   "nbconvert_exporter": "python",
   "pygments_lexer": "ipython3",
   "version": "3.12.1"
  }
 },
 "nbformat": 4,
 "nbformat_minor": 5
}
