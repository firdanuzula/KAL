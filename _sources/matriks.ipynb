{
 "cells": [
  {
   "cell_type": "markdown",
   "metadata": {},
   "source": [
    "# Matriks \n",
    "\n",
    "## Definisi Matriks\n",
    "Matriks adalah sebuah larik (array) dua dimensi yang terdiri dari bilangan real atau kompleks yang disusun dalam bentuk persegi panjang dengan baris dan kolom tertentu. Secara formal, sebuah matriks dengan ukuran m×n memiliki m baris dan n kolom, di mana setiap elemen dalam matriks diwakili oleh , dengan $$ a_{ij} $$ 𝑖 menunjukkan indeks baris dan 𝑗 menunjukkan indeks kolom. \n",
    "### Operasi Aritmatika Matriks\n",
    "#### Konsep Penjumlahan Matriks\n",
    "#### Konsep Perkalian Matriks\n",
    "#### Perkalian Skala dengan Matriks\n",
    "\n"
   ]
  }
 ],
 "metadata": {
  "language_info": {
   "name": "python"
  }
 },
 "nbformat": 4,
 "nbformat_minor": 2
}
